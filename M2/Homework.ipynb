{
 "cells": [
  {
   "cell_type": "code",
   "execution_count": 1,
   "metadata": {},
   "outputs": [],
   "source": [
    "cpa_commission = {\n",
    "\n",
    "    'burgerclub': 0.3,\n",
    "\n",
    "    'food-delivery': 0.25\n",
    "\n",
    "}\n",
    "\n",
    "cpc_commission = {\n",
    "\n",
    "    'city-magazine': 7,\n",
    "\n",
    "    'foody': 9\n",
    "\n",
    "}\n",
    "fixed_commission = 4"
   ]
  },
  {
   "cell_type": "code",
   "execution_count": 2,
   "metadata": {},
   "outputs": [],
   "source": [
    "def source_type_classification( line ):\n",
    "\n",
    "    source = line[5]\n",
    "\n",
    "    medium = line[4]\n",
    "\n",
    "    amount_paid = float( line[-1].replace(',', '.') )\n",
    "\n",
    "    if source == 'google' or source == 'yandex':\n",
    "\n",
    "        if medium == 'seo' or medium == 'sem':\n",
    "\n",
    "            sourceType = 'search engines seo'\n",
    "\n",
    "        elif medium == 'brand':\n",
    "\n",
    "            sourceType = 'search engines brand'\n",
    "\n",
    "        else:\n",
    "\n",
    "            # если вдруг встретится другой вариант, то ставим \"undefined\"\n",
    "\n",
    "            sourceType = 'search engines undefined'\n",
    "\n",
    "    else:\n",
    "\n",
    "        sourceType = 'other'\n",
    "\n",
    "    return sourceType"
   ]
  },
  {
   "cell_type": "code",
   "execution_count": 3,
   "metadata": {},
   "outputs": [],
   "source": [
    "def costs_classification( amount_paid, source ):\n",
    "\n",
    "    \"\"\"\n",
    "\n",
    "    Функция по названию канала source возвращает размер комиссии.\n",
    "\n",
    "    Размеры комиссий берутся из словарей cpa_commission, cpc_commission и значения fixed_commission\n",
    "\n",
    "    \"\"\"\n",
    "\n",
    "    # если источник source входит в словарь cpa_commission, то возвращаем долю от выручки\n",
    "\n",
    "    if source in cpa_commission:\n",
    "\n",
    "        return amount_paid * cpa_commission[ source ]\n",
    "\n",
    "    # в случае партнеров CPC стоимость расходов постоянная\n",
    "\n",
    "    if source in cpc_commission:\n",
    "\n",
    "        return cpc_commission[ source ]\n",
    "\n",
    "    # если ни один случай не подходит, то возвращаем фиксированную стоимость fixed_commission\n",
    "\n",
    "    return fixed_commission"
   ]
  },
  {
   "cell_type": "code",
   "execution_count": 4,
   "metadata": {},
   "outputs": [],
   "source": [
    "def expense_and_income( line ):\n",
    "\n",
    "    \"\"\"\n",
    "\n",
    "    Функция для строки line возвращает итоговый расход и доход\n",
    "\n",
    "    \"\"\"\n",
    "\n",
    "    source = line[5]\n",
    "\n",
    "    amount_paid = float( line[-1].replace( ',', '.' ) )\n",
    "\n",
    "    cost = float( line[6].replace( ',', '.' ) )\n",
    "\n",
    "    partner_comission = costs_classification( amount_paid, source )\n",
    "\n",
    "    return source, cost + partner_comission, amount_paid"
   ]
  },
  {
   "cell_type": "code",
   "execution_count": 5,
   "metadata": {},
   "outputs": [],
   "source": [
    "roi_stats = {}\n",
    "\n",
    "with open( 'data_no_header.txt', 'r' ) as f:\n",
    "\n",
    "    for line in f:\n",
    "\n",
    "        line = line.strip().split('\\t')\n",
    "\n",
    "        source, cost, income = expense_and_income( line )\n",
    "        sourceType = source_type_classification( line )\n",
    "\n",
    "        if sourceType in roi_stats:\n",
    "\n",
    "            roi_stats[ sourceType ][ 'cost' ] += cost\n",
    "\n",
    "            roi_stats[ sourceType ][ 'income' ] += income\n",
    "\n",
    "        else:\n",
    "\n",
    "            roi_stats[ sourceType ] = {}\n",
    "\n",
    "            roi_stats[ sourceType ][ 'cost' ] = cost\n",
    "\n",
    "            roi_stats[ sourceType ][ 'income' ] = income\n",
    "        "
   ]
  },
  {
   "cell_type": "code",
   "execution_count": 6,
   "metadata": {},
   "outputs": [],
   "source": [
    "for source, data in roi_stats.items():\n",
    "\n",
    "    data['roi'] = ( data['income'] - data['cost'] ) / data['cost']"
   ]
  },
  {
   "cell_type": "code",
   "execution_count": 7,
   "metadata": {},
   "outputs": [
    {
     "data": {
      "text/plain": [
       "{'search engines seo': {'cost': 686.2699999999992,\n",
       "  'income': 2902.4,\n",
       "  'roi': 3.2292392207148843},\n",
       " 'other': {'cost': 541.1059999999999,\n",
       "  'income': 1992.7999999999997,\n",
       "  'roi': 2.682827394262862},\n",
       " 'search engines brand': {'cost': 52.0,\n",
       "  'income': 234.60000000000005,\n",
       "  'roi': 3.5115384615384624}}"
      ]
     },
     "execution_count": 7,
     "metadata": {},
     "output_type": "execute_result"
    }
   ],
   "source": [
    "roi_stats"
   ]
  },
  {
   "cell_type": "code",
   "execution_count": null,
   "metadata": {},
   "outputs": [],
   "source": []
  }
 ],
 "metadata": {
  "kernelspec": {
   "display_name": "Python 3",
   "language": "python",
   "name": "python3"
  },
  "language_info": {
   "codemirror_mode": {
    "name": "ipython",
    "version": 3
   },
   "file_extension": ".py",
   "mimetype": "text/x-python",
   "name": "python",
   "nbconvert_exporter": "python",
   "pygments_lexer": "ipython3",
   "version": "3.6.5"
  }
 },
 "nbformat": 4,
 "nbformat_minor": 2
}
